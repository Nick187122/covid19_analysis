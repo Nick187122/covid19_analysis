# COVID-19 Data Analysis Notebook
# File: covid19_analysis.ipynb

## 1. Setup and Data Loading

import pandas as pd
import numpy as np
import matplotlib.pyplot as plt
import seaborn as sns
import plotly.express as px
from datetime import datetime

# Set visualization style
sns.set(style="whitegrid")
plt.rcParams['figure.figsize'] = (12, 8)

# Load the dataset with error handling
try:
    url = "https://covid.ourworldindata.org/data/owid-covid-data.csv"
    df = pd.read_csv(url)
    print("Dataset loaded successfully!")
    print(f"Shape: {df.shape}")
    
    # Display basic info
    print("\n=== Dataset Information ===")
    print(df.info())
    
    # Show first few rows
    print("\n=== First 5 Rows ===")
    display(df.head())
    
except Exception as e:
    print(f"Error loading dataset: {str(e)}")

## 2. Data Cleaning and Preparation

# Select columns of interest
cols = ['date', 'location', 'total_cases', 'new_cases', 'total_deaths', 'new_deaths',
        'total_vaccinations', 'people_vaccinated', 'people_fully_vaccinated',
        'population', 'life_expectancy', 'gdp_per_capita']
covid = df[cols].copy()

# Convert date to datetime
covid['date'] = pd.to_datetime(covid['date'])

# Filter for selected countries
countries = ['Kenya', 'United States', 'India', 'Brazil', 'Germany', 'South Africa']
covid_filtered = covid[covid['location'].isin(countries)].copy()

# Handle missing values
covid_filtered['total_cases'] = covid_filtered.groupby('location')['total_cases'].ffill()
covid_filtered['total_deaths'] = covid_filtered.groupby('location')['total_deaths'].ffill()
covid_filtered['total_vaccinations'] = covid_filtered.groupby('location')['total_vaccinations'].ffill()

# Calculate derived metrics
covid_filtered['cases_per_million'] = (covid_filtered['total_cases'] / covid_filtered['population']) * 1e6
covid_filtered['death_rate'] = covid_filtered['total_deaths'] / covid_filtered['total_cases']
covid_filtered['vaccination_rate'] = covid_filtered['people_fully_vaccinated'] / covid_filtered['population']

# Get latest data for each country
latest_data = covid_filtered.sort_values('date').groupby('location').last().reset_index()

## 3. Exploratory Data Analysis

### Time Series Analysis
plt.figure(figsize=(14, 8))
sns.lineplot(data=covid_filtered, x='date', y='total_cases', hue='location')
plt.title('Total COVID-19 Cases Over Time')
plt.ylabel('Total Cases')
plt.xlabel('Date')
plt.xticks(rotation=45)
plt.show()

plt.figure(figsize=(14, 8))
sns.lineplot(data=covid_filtered, x='date', y='total_deaths', hue='location')
plt.title('Total COVID-19 Deaths Over Time')
plt.ylabel('Total Deaths')
plt.xlabel('Date')
plt.xticks(rotation=45)
plt.show()

### Country Comparison
plt.figure(figsize=(12, 6))
sns.barplot(data=latest_data.sort_values('total_cases', ascending=False),
            x='location', y='total_cases')
plt.title('Total Cases by Country')
plt.ylabel('Total Cases')
plt.xlabel('Country')
plt.xticks(rotation=45)
plt.show()

plt.figure(figsize=(12, 6))
sns.barplot(data=latest_data.sort_values('death_rate', ascending=False),
            x='location', y='death_rate')
plt.title('Case Fatality Rate by Country')
plt.ylabel('Death Rate (Deaths/Cases)')
plt.xlabel('Country')
plt.xticks(rotation=45)
plt.show()

## 4. Vaccination Analysis

plt.figure(figsize=(14, 8))
sns.lineplot(data=covid_filtered, x='date', y='total_vaccinations', hue='location')
plt.title('Total Vaccinations Over Time')
plt.ylabel('Total Vaccinations')
plt.xlabel('Date')
plt.xticks(rotation=45)
plt.show()

plt.figure(figsize=(12, 6))
sns.barplot(data=latest_data.sort_values('vaccination_rate', ascending=False),
            x='location', y='vaccination_rate')
plt.title('Full Vaccination Rate by Country')
plt.ylabel('Percentage Fully Vaccinated')
plt.xlabel('Country')
plt.xticks(rotation=45)
plt.show()

## 5. Choropleth Map (Optional)

# Prepare data for choropleth
world_data = df[df['date'] == df['date'].max()][['iso_code', 'location', 'total_cases_per_million']].dropna()

fig = px.choropleth(world_data,
                    locations="iso_code",
                    color="total_cases_per_million",
                    hover_name="location",
                    color_continuous_scale=px.colors.sequential.Plasma,
                    title="Total COVID-19 Cases per Million People")
fig.show()

## 6. Key Insights

"""
### Key Insights from COVID-19 Data Analysis:

1. **Case Trends**: 
   - The United States had the highest total cases among analyzed countries
   - Kenya showed a slower initial spread but experienced significant waves later

2. **Fatality Rates**:
   - Brazil showed the highest death rate among the countries analyzed
   - Kenya's death rate was lower than more developed nations despite fewer healthcare resources

3. **Vaccination Progress**:
   - Germany achieved the highest vaccination rate among analyzed countries
   - Kenya lagged in vaccination rates compared to developed nations
   - The US had rapid initial vaccine rollout but plateaued earlier than some countries

4. **Global Patterns**:
   - Wealthier nations generally had higher vaccination rates
   - Case rates per capita showed different patterns than total cases
   - Countries experienced COVID waves at different times
"""